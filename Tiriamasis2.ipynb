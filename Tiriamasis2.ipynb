{
 "cells": [
  {
   "cell_type": "code",
   "execution_count": 1,
   "id": "74fd368e",
   "metadata": {},
   "outputs": [],
   "source": [
    "import os, shutil, json\n",
    "import pandas as pd\n",
    "import tensorflow as tf\n",
    "import matplotlib.pyplot as plt\n",
    "from scipy.io import loadmat\n",
    "from sklearn.model_selection import train_test_split\n",
    "from sklearn.preprocessing import normalize\n",
    "from sklearn.linear_model import LinearRegression\n",
    "from sklearn.metrics import mean_squared_error, mean_absolute_error\n",
    "from math import sqrt\n",
    "from numpy import reshape, expand_dims"
   ]
  },
  {
   "cell_type": "code",
   "execution_count": 2,
   "id": "85817194",
   "metadata": {},
   "outputs": [],
   "source": [
    "VECTOR_LENGTH = 64\n",
    "\n",
    "if not(os.path.isdir('logs')):\n",
    "    os.mkdir('logs')"
   ]
  },
  {
   "cell_type": "code",
   "execution_count": 3,
   "id": "ee1fa71a",
   "metadata": {},
   "outputs": [],
   "source": [
    "permeability = loadmat('8x8_permeability.mat')\n",
    "permeability = pd.DataFrame(normalize(permeability['permeability']))\n",
    "\n",
    "target = loadmat('8x8_target.mat')\n",
    "target = pd.DataFrame(normalize(target['target']))\n",
    "\n",
    "perm_train, perm_test, target_train, target_test = train_test_split(permeability, target, test_size = 0.2, random_state = 0)"
   ]
  },
  {
   "cell_type": "code",
   "execution_count": 4,
   "id": "c4257a98",
   "metadata": {},
   "outputs": [
    {
     "name": "stdout",
     "output_type": "stream",
     "text": [
      "0.0002839440308775821 0.00970199592492407\n"
     ]
    }
   ],
   "source": [
    "# palyginimui tiesines regresijos MSE ir MAE\n",
    "\n",
    "lin_reg = LinearRegression(n_jobs = -1)\n",
    "lin_reg.fit(perm_train, target_train, )\n",
    "\n",
    "predicted_target = lin_reg.predict(perm_test)\n",
    "MSE = mean_squared_error(target_test, predicted_target)\n",
    "MAE = mean_absolute_error(target_test, predicted_target)\n",
    "\n",
    "print(MSE, MAE)"
   ]
  },
  {
   "cell_type": "code",
   "execution_count": 5,
   "id": "d7248c3f",
   "metadata": {},
   "outputs": [],
   "source": [
    "def clear_model_logs(model_name):\n",
    "    folder = 'logs/' + model_name\n",
    "    for filename in os.listdir(folder):\n",
    "        file_path = os.path.join(folder, filename)\n",
    "        try:\n",
    "            if os.path.isfile(file_path) or os.path.islink(file_path):\n",
    "                os.unlink(file_path)\n",
    "            elif os.path.isdir(file_path):\n",
    "                shutil.rmtree(file_path)\n",
    "        except Exception as e:\n",
    "            print('Failed to delete %s. Reason: %s' % (file_path, e))\n",
    "            \n",
    "def save_extra_info(optimizer, batch_size, model, model_name):\n",
    "    if not(os.path.isdir('logs/' + model_name)):\n",
    "        os.mkdir('logs/' + model_name)\n",
    "    \n",
    "    supp_info = tf.keras.optimizers.serialize(optimizer)\n",
    "    supp_info[\"batch_size\"] = str(batch_size)\n",
    "    supp_info[\"data_size\"] = str(sqrt(VECTOR_LENGTH))\n",
    "    supp_info[\"train_set_size\"] = str(perm_train.shape[0])\n",
    "    supp_info[\"test_set_size\"] = str(perm_test.shape[0])\n",
    "    supp_info[\"model\"] = model.to_json()\n",
    "    \n",
    "    open('logs/' + model_name + '/' + model_name + '.json', 'w').write(json.dumps(supp_info, indent = 4))\n",
    "    \n",
    "def fit_model(optimizer, batch_size, model, model_name, epochs):\n",
    "    save_extra_info(optimizer, batch_size, model, model_name)\n",
    "\n",
    "    history = model.fit(x = perm_train, y = target_train, batch_size = batch_size, epochs = epochs, verbose = 0, \n",
    "              validation_data = (perm_test, target_test), shuffle = True)\n",
    "\n",
    "    history = pd.DataFrame.from_dict(history.history)\n",
    "    history.to_csv('logs/' + model_name + '/' + model_name + '.csv', index = False)\n",
    "    model.save('logs/' + model_name, save_format = \"tf\")\n",
    "    \n",
    "def load_model(model_name, optimizer):\n",
    "    model = tf.keras.models.load_model(filepath = 'logs/' + model_name, compile = False)\n",
    "    model.compile(optimizer = optimizer, loss='mean_squared_error', metrics=['mean_absolute_error'])\n",
    "    return model\n",
    "\n",
    "def FF1(optimizer):\n",
    "    \n",
    "    model = tf.keras.models.Sequential()\n",
    "    model.add(tf.keras.layers.Dense(32, activation = 'relu', input_shape = (VECTOR_LENGTH, )))\n",
    "    model.add(tf.keras.layers.Dense(32, activation = 'relu'))\n",
    "    model.add(tf.keras.layers.Dense(VECTOR_LENGTH, activation = 'linear'))\n",
    "    model.compile(optimizer = optimizer, loss = 'mean_squared_error', metrics = ['mean_absolute_error']) \n",
    "    return model\n",
    "\n",
    "def FF2(optimizer):\n",
    "    \n",
    "    model = tf.keras.models.Sequential()\n",
    "    model.add(tf.keras.layers.Dense(16, activation = 'relu', input_shape = (VECTOR_LENGTH, )))\n",
    "    model.add(tf.keras.layers.Dense(16, activation = 'relu'))\n",
    "    model.add(tf.keras.layers.Dense(VECTOR_LENGTH, activation = 'linear'))\n",
    "    model.compile(optimizer = optimizer, loss = 'mean_squared_error', metrics = ['mean_absolute_error']) \n",
    "    return model\n",
    "\n",
    "def FF3(optimizer):\n",
    "    \n",
    "    model = tf.keras.models.Sequential()\n",
    "    model.add(tf.keras.layers.Dense(8, activation = 'relu', input_shape = (VECTOR_LENGTH, )))\n",
    "    model.add(tf.keras.layers.Dense(8, activation = 'relu'))\n",
    "    model.add(tf.keras.layers.Dense(VECTOR_LENGTH, activation = 'linear'))\n",
    "    model.compile(optimizer = optimizer, loss = 'mean_squared_error', metrics = ['mean_absolute_error']) \n",
    "    return model\n",
    "\n",
    "def FF4(optimizer):\n",
    "    \n",
    "    model = tf.keras.models.Sequential()\n",
    "    model.add(tf.keras.layers.Dense(16, activation = 'relu', input_shape = (VECTOR_LENGTH, )))\n",
    "    model.add(tf.keras.layers.Dense(16, activation = 'relu'))\n",
    "    model.add(tf.keras.layers.Dense(16, activation = 'relu'))\n",
    "    model.add(tf.keras.layers.Dense(VECTOR_LENGTH, activation = 'linear'))\n",
    "    model.compile(optimizer = optimizer, loss = 'mean_squared_error', metrics = ['mean_absolute_error']) \n",
    "    return model\n",
    "\n",
    "def FF5(optimizer):\n",
    "    \n",
    "    model = tf.keras.models.Sequential()\n",
    "    model.add(tf.keras.layers.Dense(32, activation = 'linear', input_shape = (VECTOR_LENGTH, )))\n",
    "    model.add(tf.keras.layers.Dense(32, activation = 'linear'))\n",
    "    model.add(tf.keras.layers.Dense(VECTOR_LENGTH, activation = 'linear'))\n",
    "    model.compile(optimizer = optimizer, loss = 'mean_squared_error', metrics = ['mean_absolute_error']) \n",
    "    return model"
   ]
  },
  {
   "cell_type": "code",
   "execution_count": 10,
   "id": "95e34c5f",
   "metadata": {
    "scrolled": false
   },
   "outputs": [
    {
     "name": "stdout",
     "output_type": "stream",
     "text": [
      "INFO:tensorflow:Assets written to: logs/FF1v2\\assets\n"
     ]
    }
   ],
   "source": [
    "# launch model experiments\n",
    "\n",
    "batch_size = 100\n",
    "learning_rate = 0.00001\n",
    "optimizer = tf.keras.optimizers.Adam(learning_rate = learning_rate)\n",
    "\n",
    "model_name = 'FF1v2'\n",
    "#model = FF1(optimizer)\n",
    "model = load_model('FF1', optimizer)\n",
    "fit_model(optimizer, batch_size, model, model_name, epochs = 1500)"
   ]
  },
  {
   "cell_type": "code",
   "execution_count": 11,
   "id": "0029e1eb",
   "metadata": {
    "scrolled": true
   },
   "outputs": [
    {
     "name": "stdout",
     "output_type": "stream",
     "text": [
      "0.0000813294755062 0.0001691713550826\n",
      "0.0060909246094524 0.007859805598855\n"
     ]
    },
    {
     "data": {
      "image/png": "[encoded data removed]",
      "text/plain": [
       "<Figure size 1152x345.6 with 1 Axes>"
      ]
     },
     "metadata": {
      "needs_background": "light"
     },
     "output_type": "display_data"
    },
    {
     "data": {
      "image/png": "[encoded data removed]",
      "text/plain": [
       "<Figure size 1152x345.6 with 1 Axes>"
      ]
     },
     "metadata": {
      "needs_background": "light"
     },
     "output_type": "display_data"
    }
   ],
   "source": [
    "# siuo metu maziausi val error pasiekti su FF1:\n",
    "# MSE = 0.0001727994531393 ir MAE = 0.0079095419496297\n",
    "model_name = 'FF1v2'\n",
    "history = pd.read_csv('logs/' + model_name + '/' + model_name + '.csv')\n",
    "\n",
    "plt.figure(figsize = (16, 4.8))\n",
    "plt.plot(history[\"loss\"], label = \"training loss (MSE)\")\n",
    "plt.plot(history[\"val_loss\"], label = \"validation loss (MSE)\")\n",
    "plt.axhline(y = MSE, color = 'r', linestyle = '-', label = 'Linear regression MSE')\n",
    "plt.legend(loc = 'upper right')\n",
    "print(\"{:.16f}\".format(min(history[\"loss\"])), min(history[\"val_loss\"]))\n",
    "\n",
    "\n",
    "plt.figure(figsize = (16, 4.8))\n",
    "plt.plot(history[\"mean_absolute_error\"], label = \"training MAE\")\n",
    "plt.plot(history[\"val_mean_absolute_error\"], label = \"validation MAE\")\n",
    "plt.axhline(y = MAE, color = 'r', linestyle = '-', label = 'Linear regression MAE')\n",
    "plt.legend(loc = 'upper right')\n",
    "print(min(history[\"mean_absolute_error\"]), min(history[\"val_mean_absolute_error\"]))"
   ]
  },
  {
   "cell_type": "code",
   "execution_count": 68,
   "id": "b8d78e43",
   "metadata": {
    "scrolled": false
   },
   "outputs": [
    {
     "data": {
      "image/png": "[encoded data removed]",
      "text/plain": [
       "<Figure size 1152x345.6 with 4 Axes>"
      ]
     },
     "metadata": {
      "needs_background": "light"
     },
     "output_type": "display_data"
    }
   ],
   "source": [
    "map_index = 1\n",
    "\n",
    "dummy_rate = 0.0001\n",
    "dummy_optimizer = tf.keras.optimizers.Adam(learning_rate = dummy_rate)\n",
    "model = load_model('FF1v2', dummy_optimizer)\n",
    "\n",
    "perm_test_sample = perm_test.iloc[map_index].to_numpy()\n",
    "\n",
    "test_prediction = model.predict(expand_dims(perm_test_sample, 0), batch_size = 1)\n",
    "test_prediction = reshape(test_prediction, (int(sqrt(VECTOR_LENGTH)), int(sqrt(VECTOR_LENGTH))))\n",
    "\n",
    "lin_reg_prediction = lin_reg.predict(perm_test_sample.reshape(1, -1))\n",
    "lin_reg_prediction = reshape(lin_reg_prediction, (int(sqrt(VECTOR_LENGTH)), int(sqrt(VECTOR_LENGTH))))\n",
    "\n",
    "test_solution = reshape(target_test.iloc[map_index].to_numpy(), (int(sqrt(VECTOR_LENGTH)), int(sqrt(VECTOR_LENGTH))))\n",
    "\n",
    "\n",
    "\n",
    "cm_range = [min(min(test_solution.flatten()), min(test_prediction.flatten()), min(lin_reg_prediction.flatten())), \n",
    "            max(max(test_solution.flatten()), max(test_prediction.flatten()), max(lin_reg_prediction.flatten()))]\n",
    "\n",
    "fig, axes = plt.subplots(nrows = 1, ncols = 3, figsize = (16, 4.8))\n",
    "im = axes[0].imshow(test_solution, vmin = cm_range[0], vmax = cm_range[1])\n",
    "axes[0].title.set_text('Solution')\n",
    "im = axes[1].imshow(test_prediction, vmin = cm_range[0], vmax = cm_range[1])\n",
    "axes[1].title.set_text('NN prediction')\n",
    "im = axes[2].imshow(lin_reg_prediction, vmin = cm_range[0], vmax = cm_range[1])\n",
    "axes[2].title.set_text('Linear regression prediction')\n",
    "\n",
    "fig.subplots_adjust(right = 0.8)\n",
    "cbar_ax = fig.add_axes([0.85, 0.15, 0.05, 0.7])\n",
    "fig.colorbar(im, cax=cbar_ax)\n",
    "\n",
    "plt.show()"
   ]
  },
  {
   "cell_type": "code",
   "execution_count": 6,
   "id": "a1571497",
   "metadata": {},
   "outputs": [
    {
     "name": "stdout",
     "output_type": "stream",
     "text": [
      "Model: \"sequential\"\n",
      "_________________________________________________________________\n",
      "Layer (type)                 Output Shape              Param #   \n",
      "=================================================================\n",
      "dense (Dense)                (None, 32)                2080      \n",
      "_________________________________________________________________\n",
      "dense_1 (Dense)              (None, 32)                1056      \n",
      "_________________________________________________________________\n",
      "dense_2 (Dense)              (None, 64)                2112      \n",
      "=================================================================\n",
      "Total params: 5,248\n",
      "Trainable params: 5,248\n",
      "Non-trainable params: 0\n",
      "_________________________________________________________________\n"
     ]
    }
   ],
   "source": [
    "# review model architecture\n",
    "\n",
    "learning_rate = 0.0001\n",
    "optimizer = tf.keras.optimizers.Adam(learning_rate = learning_rate)\n",
    "model = FF1(optimizer)\n",
    "model.summary()"
   ]
  },
  {
   "cell_type": "code",
   "execution_count": null,
   "id": "a8351b4a",
   "metadata": {},
   "outputs": [],
   "source": [
    "# paklaust ar duomenu normalizavimas iskreipia permeability?\n",
    "# pabandyt permeability performuot is vektoriaus i matrica ir praleist per convolution?"
   ]
  },
  {
   "cell_type": "code",
   "execution_count": null,
   "id": "aa0b9c2c",
   "metadata": {
    "scrolled": true
   },
   "outputs": [],
   "source": [
    "#%load_ext tensorboard\n",
    "#%tensorboard --logdir logs/test\n",
    "#tensorboard_callback = tf.keras.callbacks.TensorBoard(log_dir = \"logs/\" + model_name, write_graph = False)\n",
    "\n",
    "#f = open('sample.json')\n",
    "#data = json.load(f)\n",
    "#data['model']\n",
    "#mod = tf.keras.models.model_from_json(data['model'])"
   ]
  }
 ],
 "metadata": {
  "kernelspec": {
   "display_name": "Python 3 (ipykernel)",
   "language": "python",
   "name": "python3"
  },
  "language_info": {
   "codemirror_mode": {
    "name": "ipython",
    "version": 3
   },
   "file_extension": ".py",
   "mimetype": "text/x-python",
   "name": "python",
   "nbconvert_exporter": "python",
   "pygments_lexer": "ipython3",
   "version": "3.9.12"
  }
 },
 "nbformat": 4,
 "nbformat_minor": 5
}
