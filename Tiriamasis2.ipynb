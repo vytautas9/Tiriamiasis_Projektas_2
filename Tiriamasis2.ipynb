{
 "cells": [
  {
   "cell_type": "code",
   "execution_count": 9,
   "id": "b9a63eaa-a4a4-446c-89d2-87e9b22f669c",
   "metadata": {},
   "outputs": [
    {
     "name": "stdout",
     "output_type": "stream",
     "text": [
      "D:\\Git stuff\\Tiriamiasis_Projektas_2\n"
     ]
    }
   ],
   "source": [
    "#importing the os module\n",
    "import os\n",
    "\n",
    "#to get the current working directory\n",
    "directory = os.getcwd()\n",
    "\n",
    "print(directory)"
   ]
  },
  {
   "cell_type": "code",
   "execution_count": 12,
   "id": "b8be20c9-e2b9-4c87-81f2-ac0b5a8fce54",
   "metadata": {},
   "outputs": [
    {
     "name": "stdout",
     "output_type": "stream",
     "text": [
      "D:\\Git stuff\\Tiriamiasis_Projektas_2\n"
     ]
    }
   ],
   "source": [
    "os.chdir(\"D:\\Git stuff\\Tiriamiasis_Projektas_2\")\n",
    "\n",
    "#to get the current working directory\n",
    "directory = os.getcwd()\n",
    "\n",
    "print(directory)"
   ]
  },
  {
   "cell_type": "code",
   "execution_count": 13,
   "id": "74fd368e",
   "metadata": {},
   "outputs": [],
   "source": [
    "import os, shutil, json\n",
    "import pandas as pd\n",
    "import tensorflow as tf\n",
    "import matplotlib.pyplot as plt\n",
    "from scipy.io import loadmat\n",
    "from sklearn.model_selection import train_test_split\n",
    "from sklearn.preprocessing import normalize\n",
    "from sklearn.linear_model import LinearRegression\n",
    "from sklearn.metrics import mean_squared_error, mean_absolute_error\n",
    "from math import sqrt\n",
    "from numpy import reshape, expand_dims"
   ]
  },
  {
   "cell_type": "code",
   "execution_count": 33,
   "id": "85817194",
   "metadata": {},
   "outputs": [],
   "source": [
    "GRID_SIZE = 8\n",
    "VECTOR_LENGTH = GRID_SIZE * GRID_SIZE\n",
    "CHANNELS = 1\n",
    "\n",
    "if not(os.path.isdir('logs')):\n",
    "    os.mkdir('logs')"
   ]
  },
  {
   "cell_type": "code",
   "execution_count": null,
   "id": "5c9fc8f1-70a5-4337-9784-6d2cfb77f13c",
   "metadata": {},
   "outputs": [],
   "source": [
    "# the format of .mat files:\n",
    "# if, for example, we have 8x8 permeability map, then in the .mat file the first row will represent one map and\n",
    "# the matrix has been expanded from 2D into 1D in such a way: 1 row + 2 row + 3 row + ... + 8 row."
   ]
  },
  {
   "cell_type": "code",
   "execution_count": 21,
   "id": "ee1fa71a",
   "metadata": {},
   "outputs": [],
   "source": [
    "permeability = loadmat('Data/8x8_permeability.mat')\n",
    "permeability = pd.DataFrame(normalize(permeability['permeability']))\n",
    "\n",
    "target = loadmat('Data/8x8_target.mat')\n",
    "target = pd.DataFrame(normalize(target['target']))\n",
    "\n",
    "perm_train, perm_test, target_train, target_test = train_test_split(permeability, target, test_size = 0.2, random_state = 0)"
   ]
  },
  {
   "cell_type": "code",
   "execution_count": 22,
   "id": "05d9878a-4bae-4bb9-b2fa-4d8ff5cfbeca",
   "metadata": {},
   "outputs": [
    {
     "data": {
      "text/html": [
       "<div>\n",
       "<style scoped>\n",
       "    .dataframe tbody tr th:only-of-type {\n",
       "        vertical-align: middle;\n",
       "    }\n",
       "\n",
       "    .dataframe tbody tr th {\n",
       "        vertical-align: top;\n",
       "    }\n",
       "\n",
       "    .dataframe thead th {\n",
       "        text-align: right;\n",
       "    }\n",
       "</style>\n",
       "<table border=\"1\" class=\"dataframe\">\n",
       "  <thead>\n",
       "    <tr style=\"text-align: right;\">\n",
       "      <th></th>\n",
       "      <th>0</th>\n",
       "      <th>1</th>\n",
       "      <th>2</th>\n",
       "      <th>3</th>\n",
       "      <th>4</th>\n",
       "      <th>5</th>\n",
       "      <th>6</th>\n",
       "      <th>7</th>\n",
       "      <th>8</th>\n",
       "      <th>9</th>\n",
       "      <th>...</th>\n",
       "      <th>54</th>\n",
       "      <th>55</th>\n",
       "      <th>56</th>\n",
       "      <th>57</th>\n",
       "      <th>58</th>\n",
       "      <th>59</th>\n",
       "      <th>60</th>\n",
       "      <th>61</th>\n",
       "      <th>62</th>\n",
       "      <th>63</th>\n",
       "    </tr>\n",
       "  </thead>\n",
       "  <tbody>\n",
       "    <tr>\n",
       "      <th>0</th>\n",
       "      <td>0.199659</td>\n",
       "      <td>0.115416</td>\n",
       "      <td>0.050238</td>\n",
       "      <td>0.025786</td>\n",
       "      <td>0.015202</td>\n",
       "      <td>0.012305</td>\n",
       "      <td>0.014853</td>\n",
       "      <td>0.019189</td>\n",
       "      <td>0.185316</td>\n",
       "      <td>0.127507</td>\n",
       "      <td>...</td>\n",
       "      <td>0.258354</td>\n",
       "      <td>0.202175</td>\n",
       "      <td>0.005747</td>\n",
       "      <td>0.013874</td>\n",
       "      <td>0.044360</td>\n",
       "      <td>0.094783</td>\n",
       "      <td>0.186798</td>\n",
       "      <td>0.262451</td>\n",
       "      <td>0.330029</td>\n",
       "      <td>0.292219</td>\n",
       "    </tr>\n",
       "    <tr>\n",
       "      <th>1</th>\n",
       "      <td>0.167853</td>\n",
       "      <td>0.194822</td>\n",
       "      <td>0.154417</td>\n",
       "      <td>0.039611</td>\n",
       "      <td>0.015253</td>\n",
       "      <td>0.010435</td>\n",
       "      <td>0.018738</td>\n",
       "      <td>0.026319</td>\n",
       "      <td>0.113427</td>\n",
       "      <td>0.128126</td>\n",
       "      <td>...</td>\n",
       "      <td>0.075490</td>\n",
       "      <td>0.258073</td>\n",
       "      <td>0.703169</td>\n",
       "      <td>0.282415</td>\n",
       "      <td>0.088895</td>\n",
       "      <td>0.015269</td>\n",
       "      <td>0.007818</td>\n",
       "      <td>0.009022</td>\n",
       "      <td>0.049790</td>\n",
       "      <td>0.205278</td>\n",
       "    </tr>\n",
       "    <tr>\n",
       "      <th>2</th>\n",
       "      <td>0.113959</td>\n",
       "      <td>0.083395</td>\n",
       "      <td>0.058175</td>\n",
       "      <td>0.050660</td>\n",
       "      <td>0.071669</td>\n",
       "      <td>0.103677</td>\n",
       "      <td>0.116228</td>\n",
       "      <td>0.091104</td>\n",
       "      <td>0.260020</td>\n",
       "      <td>0.159634</td>\n",
       "      <td>...</td>\n",
       "      <td>0.037610</td>\n",
       "      <td>0.032172</td>\n",
       "      <td>0.036305</td>\n",
       "      <td>0.079707</td>\n",
       "      <td>0.118178</td>\n",
       "      <td>0.062429</td>\n",
       "      <td>0.040089</td>\n",
       "      <td>0.034362</td>\n",
       "      <td>0.026050</td>\n",
       "      <td>0.013860</td>\n",
       "    </tr>\n",
       "    <tr>\n",
       "      <th>3</th>\n",
       "      <td>0.089966</td>\n",
       "      <td>0.054167</td>\n",
       "      <td>0.019384</td>\n",
       "      <td>0.014667</td>\n",
       "      <td>0.007418</td>\n",
       "      <td>0.009287</td>\n",
       "      <td>0.008159</td>\n",
       "      <td>0.010806</td>\n",
       "      <td>0.049204</td>\n",
       "      <td>0.039356</td>\n",
       "      <td>...</td>\n",
       "      <td>0.197972</td>\n",
       "      <td>0.270326</td>\n",
       "      <td>0.143766</td>\n",
       "      <td>0.104241</td>\n",
       "      <td>0.089491</td>\n",
       "      <td>0.077015</td>\n",
       "      <td>0.095146</td>\n",
       "      <td>0.103336</td>\n",
       "      <td>0.148344</td>\n",
       "      <td>0.198407</td>\n",
       "    </tr>\n",
       "    <tr>\n",
       "      <th>4</th>\n",
       "      <td>0.041318</td>\n",
       "      <td>0.170778</td>\n",
       "      <td>0.382746</td>\n",
       "      <td>0.285647</td>\n",
       "      <td>0.111765</td>\n",
       "      <td>0.104633</td>\n",
       "      <td>0.086261</td>\n",
       "      <td>0.086201</td>\n",
       "      <td>0.068166</td>\n",
       "      <td>0.165140</td>\n",
       "      <td>...</td>\n",
       "      <td>0.087252</td>\n",
       "      <td>0.059907</td>\n",
       "      <td>0.031528</td>\n",
       "      <td>0.039254</td>\n",
       "      <td>0.066587</td>\n",
       "      <td>0.094168</td>\n",
       "      <td>0.155126</td>\n",
       "      <td>0.152694</td>\n",
       "      <td>0.172267</td>\n",
       "      <td>0.150526</td>\n",
       "    </tr>\n",
       "  </tbody>\n",
       "</table>\n",
       "<p>5 rows × 64 columns</p>\n",
       "</div>"
      ],
      "text/plain": [
       "         0         1         2         3         4         5         6   \\\n",
       "0  0.199659  0.115416  0.050238  0.025786  0.015202  0.012305  0.014853   \n",
       "1  0.167853  0.194822  0.154417  0.039611  0.015253  0.010435  0.018738   \n",
       "2  0.113959  0.083395  0.058175  0.050660  0.071669  0.103677  0.116228   \n",
       "3  0.089966  0.054167  0.019384  0.014667  0.007418  0.009287  0.008159   \n",
       "4  0.041318  0.170778  0.382746  0.285647  0.111765  0.104633  0.086261   \n",
       "\n",
       "         7         8         9   ...        54        55        56        57  \\\n",
       "0  0.019189  0.185316  0.127507  ...  0.258354  0.202175  0.005747  0.013874   \n",
       "1  0.026319  0.113427  0.128126  ...  0.075490  0.258073  0.703169  0.282415   \n",
       "2  0.091104  0.260020  0.159634  ...  0.037610  0.032172  0.036305  0.079707   \n",
       "3  0.010806  0.049204  0.039356  ...  0.197972  0.270326  0.143766  0.104241   \n",
       "4  0.086201  0.068166  0.165140  ...  0.087252  0.059907  0.031528  0.039254   \n",
       "\n",
       "         58        59        60        61        62        63  \n",
       "0  0.044360  0.094783  0.186798  0.262451  0.330029  0.292219  \n",
       "1  0.088895  0.015269  0.007818  0.009022  0.049790  0.205278  \n",
       "2  0.118178  0.062429  0.040089  0.034362  0.026050  0.013860  \n",
       "3  0.089491  0.077015  0.095146  0.103336  0.148344  0.198407  \n",
       "4  0.066587  0.094168  0.155126  0.152694  0.172267  0.150526  \n",
       "\n",
       "[5 rows x 64 columns]"
      ]
     },
     "execution_count": 22,
     "metadata": {},
     "output_type": "execute_result"
    }
   ],
   "source": [
    "permeability.head()"
   ]
  },
  {
   "cell_type": "code",
   "execution_count": 23,
   "id": "c4257a98",
   "metadata": {},
   "outputs": [
    {
     "name": "stdout",
     "output_type": "stream",
     "text": [
      "0.0002839440308775823 0.009701995924924073\n"
     ]
    }
   ],
   "source": [
    "# palyginimui tiesines regresijos MSE ir MAE\n",
    "\n",
    "lin_reg = LinearRegression(n_jobs = -1)\n",
    "lin_reg.fit(perm_train, target_train, )\n",
    "\n",
    "predicted_target = lin_reg.predict(perm_test)\n",
    "MSE = mean_squared_error(target_test, predicted_target)\n",
    "MAE = mean_absolute_error(target_test, predicted_target)\n",
    "\n",
    "print(MSE, MAE)"
   ]
  },
  {
   "cell_type": "code",
   "execution_count": 35,
   "id": "d7248c3f",
   "metadata": {},
   "outputs": [],
   "source": [
    "def clear_model_logs(model_name):\n",
    "    folder = 'logs/' + model_name\n",
    "    for filename in os.listdir(folder):\n",
    "        file_path = os.path.join(folder, filename)\n",
    "        try:\n",
    "            if os.path.isfile(file_path) or os.path.islink(file_path):\n",
    "                os.unlink(file_path)\n",
    "            elif os.path.isdir(file_path):\n",
    "                shutil.rmtree(file_path)\n",
    "        except Exception as e:\n",
    "            print('Failed to delete %s. Reason: %s' % (file_path, e))\n",
    "            \n",
    "def save_extra_info(optimizer, batch_size, model, model_name):\n",
    "    if not(os.path.isdir('logs/' + model_name)):\n",
    "        os.mkdir('logs/' + model_name)\n",
    "    \n",
    "    supp_info = tf.keras.optimizers.serialize(optimizer)\n",
    "    supp_info[\"batch_size\"] = str(batch_size)\n",
    "    supp_info[\"data_size\"] = str(sqrt(VECTOR_LENGTH))\n",
    "    supp_info[\"train_set_size\"] = str(perm_train.shape[0])\n",
    "    supp_info[\"test_set_size\"] = str(perm_test.shape[0])\n",
    "    supp_info[\"model\"] = model.to_json()\n",
    "    \n",
    "    open('logs/' + model_name + '/' + model_name + '.json', 'w').write(json.dumps(supp_info, indent = 4))\n",
    "    \n",
    "def fit_model(optimizer, batch_size, model, model_name, epochs):\n",
    "    save_extra_info(optimizer, batch_size, model, model_name)\n",
    "\n",
    "    history = model.fit(x = perm_train, y = target_train, batch_size = batch_size, epochs = epochs, verbose = 0, \n",
    "              validation_data = (perm_test, target_test), shuffle = True)\n",
    "\n",
    "    history = pd.DataFrame.from_dict(history.history)\n",
    "    history.to_csv('logs/' + model_name + '/' + model_name + '.csv', index = False)\n",
    "    model.save('logs/' + model_name, save_format = \"tf\")\n",
    "    \n",
    "def load_model(model_name, optimizer):\n",
    "    model = tf.keras.models.load_model(filepath = 'logs/' + model_name, compile = False)\n",
    "    model.compile(optimizer = optimizer, loss='mean_squared_error', metrics=['mean_absolute_error'])\n",
    "    return model\n",
    "\n",
    "def FF1(optimizer):\n",
    "    \n",
    "    model = tf.keras.models.Sequential()\n",
    "    model.add(tf.keras.layers.Dense(32, activation = 'relu', input_shape = (VECTOR_LENGTH, )))\n",
    "    model.add(tf.keras.layers.Dense(32, activation = 'relu'))\n",
    "    model.add(tf.keras.layers.Dense(VECTOR_LENGTH, activation = 'linear'))\n",
    "    model.compile(optimizer = optimizer, loss = 'mean_squared_error', metrics = ['mean_absolute_error']) \n",
    "    return model\n",
    "\n",
    "def FF2(optimizer):\n",
    "    \n",
    "    model = tf.keras.models.Sequential()\n",
    "    model.add(tf.keras.layers.Dense(16, activation = 'relu', input_shape = (VECTOR_LENGTH, )))\n",
    "    model.add(tf.keras.layers.Dense(16, activation = 'relu'))\n",
    "    model.add(tf.keras.layers.Dense(VECTOR_LENGTH, activation = 'linear'))\n",
    "    model.compile(optimizer = optimizer, loss = 'mean_squared_error', metrics = ['mean_absolute_error']) \n",
    "    return model\n",
    "\n",
    "def FF3(optimizer):\n",
    "    \n",
    "    model = tf.keras.models.Sequential()\n",
    "    model.add(tf.keras.layers.Dense(8, activation = 'relu', input_shape = (VECTOR_LENGTH, )))\n",
    "    model.add(tf.keras.layers.Dense(8, activation = 'relu'))\n",
    "    model.add(tf.keras.layers.Dense(VECTOR_LENGTH, activation = 'linear'))\n",
    "    model.compile(optimizer = optimizer, loss = 'mean_squared_error', metrics = ['mean_absolute_error']) \n",
    "    return model\n",
    "\n",
    "def FF4(optimizer):\n",
    "    \n",
    "    model = tf.keras.models.Sequential()\n",
    "    model.add(tf.keras.layers.Dense(16, activation = 'relu', input_shape = (VECTOR_LENGTH, )))\n",
    "    model.add(tf.keras.layers.Dense(16, activation = 'relu'))\n",
    "    model.add(tf.keras.layers.Dense(16, activation = 'relu'))\n",
    "    model.add(tf.keras.layers.Dense(VECTOR_LENGTH, activation = 'linear'))\n",
    "    model.compile(optimizer = optimizer, loss = 'mean_squared_error', metrics = ['mean_absolute_error']) \n",
    "    return model\n",
    "\n",
    "def FF5(optimizer):\n",
    "    \n",
    "    model = tf.keras.models.Sequential()\n",
    "    model.add(tf.keras.layers.Dense(32, activation = 'linear', input_shape = (VECTOR_LENGTH, )))\n",
    "    model.add(tf.keras.layers.Dense(32, activation = 'linear'))\n",
    "    model.add(tf.keras.layers.Dense(VECTOR_LENGTH, activation = 'linear'))\n",
    "    model.compile(optimizer = optimizer, loss = 'mean_squared_error', metrics = ['mean_absolute_error']) \n",
    "    return model\n",
    "\n",
    "def CNN1(optimizer):\n",
    "    \n",
    "    model = tf.keras.models.Sequential()\n",
    "    model.add(tf.keras.layers.Reshape((GRID_SIZE, GRID_SIZE, CHANNELS), input_shape=(VECTOR_LENGTH,)))\n",
    "    model.add(tf.keras.layers.Conv2D(filters = 4, kernel_size = (3,3), activation = 'relu', input_shape = (GRID_SIZE, GRID_SIZE, CHANNELS)))\n",
    "    model.add(tf.keras.layers.MaxPool2D(pool_size = 3))\n",
    "    model.add(tf.keras.layers.Flatten())\n",
    "    model.add(tf.keras.layers.Dense(VECTOR_LENGTH, activation = 'linear'))\n",
    "    model.compile(optimizer = optimizer, loss = 'mean_squared_error', metrics = ['mean_absolute_error']) \n",
    "    return model\n",
    "\n",
    "def CNN1(optimizer):\n",
    "    \n",
    "    model = tf.keras.models.Sequential()\n",
    "    model.add(tf.keras.layers.Reshape((GRID_SIZE, GRID_SIZE, CHANNELS), input_shape=(VECTOR_LENGTH,)))\n",
    "    model.add(tf.keras.layers.Conv2D(filters = 4, kernel_size = (3,3), activation = 'relu', input_shape = (GRID_SIZE, GRID_SIZE, CHANNELS)))\n",
    "    model.add(tf.keras.layers.MaxPool2D(pool_size = 3))\n",
    "    model.add(tf.keras.layers.Flatten())\n",
    "    model.add(tf.keras.layers.Dense(VECTOR_LENGTH, activation = 'linear'))\n",
    "    model.compile(optimizer = optimizer, loss = 'mean_squared_error', metrics = ['mean_absolute_error']) \n",
    "    return model"
   ]
  },
  {
   "cell_type": "code",
   "execution_count": null,
   "id": "bde8133c-2beb-45c6-b41b-264fd2aea68e",
   "metadata": {},
   "outputs": [],
   "source": []
  },
  {
   "cell_type": "code",
   "execution_count": null,
   "id": "ab0d7bdf-522b-475f-a177-e6c45fa0b333",
   "metadata": {},
   "outputs": [],
   "source": []
  },
  {
   "cell_type": "code",
   "execution_count": null,
   "id": "8b255f66-ef79-416d-b996-1cb6389b9c65",
   "metadata": {},
   "outputs": [],
   "source": []
  },
  {
   "cell_type": "code",
   "execution_count": null,
   "id": "138b65c2-538e-4316-8c4d-d7fbc476e2b0",
   "metadata": {},
   "outputs": [],
   "source": []
  },
  {
   "cell_type": "code",
   "execution_count": 38,
   "id": "95e34c5f",
   "metadata": {},
   "outputs": [
    {
     "name": "stdout",
     "output_type": "stream",
     "text": [
      "INFO:tensorflow:Assets written to: logs/CNN1\\assets\n"
     ]
    }
   ],
   "source": [
    "# launch model experiments\n",
    "\n",
    "batch_size = 100\n",
    "learning_rate = 0.00001\n",
    "optimizer = tf.keras.optimizers.Adam(learning_rate = learning_rate)\n",
    "\n",
    "model_name = 'CNN1'\n",
    "#model = FF1(optimizer)\n",
    "#model = load_model('FF1', optimizer)\n",
    "model = CNN1(optimizer)\n",
    "fit_model(optimizer, batch_size, model, model_name, epochs = 1500)"
   ]
  },
  {
   "cell_type": "code",
   "execution_count": 39,
   "id": "0029e1eb",
   "metadata": {
    "scrolled": true
   },
   "outputs": [
    {
     "name": "stdout",
     "output_type": "stream",
     "text": [
      "0.0008047630544751 0.000962596212048\n",
      "0.0186336264014244 0.0197122972458601\n"
     ]
    },
    {
     "data": {
      "image/png": "[encoded data removed]",
      "text/plain": [
       "<Figure size 1152x345.6 with 1 Axes>"
      ]
     },
     "metadata": {
      "needs_background": "light"
     },
     "output_type": "display_data"
    },
    {
     "data": {
      "image/png": "[encoded data removed]",
      "text/plain": [
       "<Figure size 1152x345.6 with 1 Axes>"
      ]
     },
     "metadata": {
      "needs_background": "light"
     },
     "output_type": "display_data"
    }
   ],
   "source": [
    "# siuo metu maziausi val error pasiekti su FF1:\n",
    "# MSE = 0.0001727994531393 ir MAE = 0.0079095419496297\n",
    "#model_name = 'FF1v2'\n",
    "history = pd.read_csv('logs/' + model_name + '/' + model_name + '.csv')\n",
    "\n",
    "plt.figure(figsize = (16, 4.8))\n",
    "plt.plot(history[\"loss\"], label = \"training loss (MSE)\")\n",
    "plt.plot(history[\"val_loss\"], label = \"validation loss (MSE)\")\n",
    "plt.axhline(y = MSE, color = 'r', linestyle = '-', label = 'Linear regression MSE')\n",
    "plt.legend(loc = 'upper right')\n",
    "print(\"{:.16f}\".format(min(history[\"loss\"])), min(history[\"val_loss\"]))\n",
    "\n",
    "\n",
    "plt.figure(figsize = (16, 4.8))\n",
    "plt.plot(history[\"mean_absolute_error\"], label = \"training MAE\")\n",
    "plt.plot(history[\"val_mean_absolute_error\"], label = \"validation MAE\")\n",
    "plt.axhline(y = MAE, color = 'r', linestyle = '-', label = 'Linear regression MAE')\n",
    "plt.legend(loc = 'upper right')\n",
    "print(min(history[\"mean_absolute_error\"]), min(history[\"val_mean_absolute_error\"]))"
   ]
  },
  {
   "cell_type": "code",
   "execution_count": 40,
   "id": "b8d78e43",
   "metadata": {},
   "outputs": [
    {
     "data": {
      "image/png": "[encoded data removed]",
      "text/plain": [
       "<Figure size 1152x345.6 with 4 Axes>"
      ]
     },
     "metadata": {
      "needs_background": "light"
     },
     "output_type": "display_data"
    }
   ],
   "source": [
    "map_index = 1\n",
    "\n",
    "dummy_rate = 0.0001\n",
    "dummy_optimizer = tf.keras.optimizers.Adam(learning_rate = dummy_rate)\n",
    "#model = load_model('FF1v2', dummy_optimizer)\n",
    "model = load_model(model_name, dummy_optimizer)\n",
    "\n",
    "perm_test_sample = perm_test.iloc[map_index].to_numpy()\n",
    "\n",
    "test_prediction = model.predict(expand_dims(perm_test_sample, 0), batch_size = 1)\n",
    "test_prediction = reshape(test_prediction, (int(sqrt(VECTOR_LENGTH)), int(sqrt(VECTOR_LENGTH))))\n",
    "\n",
    "lin_reg_prediction = lin_reg.predict(perm_test_sample.reshape(1, -1))\n",
    "lin_reg_prediction = reshape(lin_reg_prediction, (int(sqrt(VECTOR_LENGTH)), int(sqrt(VECTOR_LENGTH))))\n",
    "\n",
    "test_solution = reshape(target_test.iloc[map_index].to_numpy(), (int(sqrt(VECTOR_LENGTH)), int(sqrt(VECTOR_LENGTH))))\n",
    "\n",
    "\n",
    "\n",
    "cm_range = [min(min(test_solution.flatten()), min(test_prediction.flatten()), min(lin_reg_prediction.flatten())), \n",
    "            max(max(test_solution.flatten()), max(test_prediction.flatten()), max(lin_reg_prediction.flatten()))]\n",
    "\n",
    "fig, axes = plt.subplots(nrows = 1, ncols = 3, figsize = (16, 4.8))\n",
    "im = axes[0].imshow(test_solution, vmin = cm_range[0], vmax = cm_range[1])\n",
    "axes[0].title.set_text('Solution')\n",
    "im = axes[1].imshow(test_prediction, vmin = cm_range[0], vmax = cm_range[1])\n",
    "axes[1].title.set_text('NN prediction')\n",
    "im = axes[2].imshow(lin_reg_prediction, vmin = cm_range[0], vmax = cm_range[1])\n",
    "axes[2].title.set_text('Linear regression prediction')\n",
    "\n",
    "fig.subplots_adjust(right = 0.8)\n",
    "cbar_ax = fig.add_axes([0.85, 0.15, 0.05, 0.7])\n",
    "fig.colorbar(im, cax=cbar_ax)\n",
    "\n",
    "plt.show()"
   ]
  },
  {
   "cell_type": "code",
   "execution_count": 41,
   "id": "a1571497",
   "metadata": {},
   "outputs": [
    {
     "name": "stdout",
     "output_type": "stream",
     "text": [
      "Model: \"sequential_6\"\n",
      "_________________________________________________________________\n",
      " Layer (type)                Output Shape              Param #   \n",
      "=================================================================\n",
      " reshape_5 (Reshape)         (None, 8, 8, 1)           0         \n",
      "                                                                 \n",
      " conv2d_4 (Conv2D)           (None, 6, 6, 4)           40        \n",
      "                                                                 \n",
      " max_pooling2d_2 (MaxPooling  (None, 2, 2, 4)          0         \n",
      " 2D)                                                             \n",
      "                                                                 \n",
      " flatten_2 (Flatten)         (None, 16)                0         \n",
      "                                                                 \n",
      " dense_2 (Dense)             (None, 64)                1088      \n",
      "                                                                 \n",
      "=================================================================\n",
      "Total params: 1,128\n",
      "Trainable params: 1,128\n",
      "Non-trainable params: 0\n",
      "_________________________________________________________________\n"
     ]
    }
   ],
   "source": [
    "# review model architecture\n",
    "\n",
    "learning_rate = 0.0001\n",
    "optimizer = tf.keras.optimizers.Adam(learning_rate = learning_rate)\n",
    "#model = FF1(optimizer)\n",
    "model = CNN1(optimizer)\n",
    "model.summary()"
   ]
  },
  {
   "cell_type": "code",
   "execution_count": null,
   "id": "a8351b4a",
   "metadata": {},
   "outputs": [],
   "source": [
    "# paklaust ar duomenu normalizavimas iskreipia permeability?\n",
    "# pabandyt permeability performuot is vektoriaus i matrica ir praleist per convolution?"
   ]
  },
  {
   "cell_type": "code",
   "execution_count": null,
   "id": "aa0b9c2c",
   "metadata": {
    "scrolled": true
   },
   "outputs": [],
   "source": [
    "#%load_ext tensorboard\n",
    "#%tensorboard --logdir logs/test\n",
    "#tensorboard_callback = tf.keras.callbacks.TensorBoard(log_dir = \"logs/\" + model_name, write_graph = False)\n",
    "\n",
    "#f = open('sample.json')\n",
    "#data = json.load(f)\n",
    "#data['model']\n",
    "#mod = tf.keras.models.model_from_json(data['model'])"
   ]
  }
 ],
 "metadata": {
  "kernelspec": {
   "display_name": "Python 3 (ipykernel)",
   "language": "python",
   "name": "python3"
  },
  "language_info": {
   "codemirror_mode": {
    "name": "ipython",
    "version": 3
   },
   "file_extension": ".py",
   "mimetype": "text/x-python",
   "name": "python",
   "nbconvert_exporter": "python",
   "pygments_lexer": "ipython3",
   "version": "3.9.7"
  }
 },
 "nbformat": 4,
 "nbformat_minor": 5
}
